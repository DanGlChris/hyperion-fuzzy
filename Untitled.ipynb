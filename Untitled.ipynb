{
 "cells": [
  {
   "cell_type": "code",
   "execution_count": 1,
   "id": "3145fbba-815a-4413-ab21-87eaa3c6389b",
   "metadata": {},
   "outputs": [],
   "source": [
    "# First, we need to set up the path\n",
    "import sys\n",
    "import os\n",
    "\n",
    "# Ensure that the src directory is in the Python path\n",
    "# This assumes your notebook is in the root of your Project directory\n",
    "sys.path.insert(0, os.path.abspath('src'))\n",
    "\n",
    "import pandas as pd\n",
    "import numpy as np\n",
    "from sklearn.model_selection import train_test_split"
   ]
  },
  {
   "cell_type": "code",
   "execution_count": 5,
   "id": "650b7c37-aee8-4b0f-92f7-b39b309342aa",
   "metadata": {},
   "outputs": [
    {
     "ename": "RuntimeError",
     "evalue": "Failed to load shared libraries: Could not find module 'C:\\Users\\Admin\\Documents\\Business and Formation\\Data Science\\Model\\Classification\\Conformal transformation twin-hypersphere multi-cluster with fuzzy membership\\hyperion-fuzzy\\src\\hyperion_fuzzy\\build\\fuzzy_contribution.dll' (or one of its dependencies). Try using the full path with constructor syntax.",
     "output_type": "error",
     "traceback": [
      "\u001b[1;31m---------------------------------------------------------------------------\u001b[0m",
      "\u001b[1;31mFileNotFoundError\u001b[0m                         Traceback (most recent call last)",
      "File \u001b[1;32m~\\Documents\\Business and Formation\\Data Science\\Model\\Classification\\Conformal transformation twin-hypersphere multi-cluster with fuzzy membership\\hyperion-fuzzy\\src\\hyperion_fuzzy\\wrappers.py:38\u001b[0m\n\u001b[0;32m     37\u001b[0m test_lib \u001b[38;5;241m=\u001b[39m ctypes\u001b[38;5;241m.\u001b[39mCDLL(test_lib_path)\n\u001b[1;32m---> 38\u001b[0m fuzzy_lib \u001b[38;5;241m=\u001b[39m \u001b[43mctypes\u001b[49m\u001b[38;5;241;43m.\u001b[39;49m\u001b[43mCDLL\u001b[49m\u001b[43m(\u001b[49m\u001b[43mfuzzy_lib_path\u001b[49m\u001b[43m)\u001b[49m\n\u001b[0;32m     39\u001b[0m optimize_lib \u001b[38;5;241m=\u001b[39m ctypes\u001b[38;5;241m.\u001b[39mCDLL(optimize_lib_path)\n",
      "File \u001b[1;32m~\\miniconda3\\Lib\\ctypes\\__init__.py:379\u001b[0m, in \u001b[0;36mCDLL.__init__\u001b[1;34m(self, name, mode, handle, use_errno, use_last_error, winmode)\u001b[0m\n\u001b[0;32m    378\u001b[0m \u001b[38;5;28;01mif\u001b[39;00m handle \u001b[38;5;129;01mis\u001b[39;00m \u001b[38;5;28;01mNone\u001b[39;00m:\n\u001b[1;32m--> 379\u001b[0m     \u001b[38;5;28mself\u001b[39m\u001b[38;5;241m.\u001b[39m_handle \u001b[38;5;241m=\u001b[39m \u001b[43m_dlopen\u001b[49m\u001b[43m(\u001b[49m\u001b[38;5;28;43mself\u001b[39;49m\u001b[38;5;241;43m.\u001b[39;49m\u001b[43m_name\u001b[49m\u001b[43m,\u001b[49m\u001b[43m \u001b[49m\u001b[43mmode\u001b[49m\u001b[43m)\u001b[49m\n\u001b[0;32m    380\u001b[0m \u001b[38;5;28;01melse\u001b[39;00m:\n",
      "\u001b[1;31mFileNotFoundError\u001b[0m: Could not find module 'C:\\Users\\Admin\\Documents\\Business and Formation\\Data Science\\Model\\Classification\\Conformal transformation twin-hypersphere multi-cluster with fuzzy membership\\hyperion-fuzzy\\src\\hyperion_fuzzy\\build\\fuzzy_contribution.dll' (or one of its dependencies). Try using the full path with constructor syntax.",
      "\nDuring handling of the above exception, another exception occurred:\n",
      "\u001b[1;31mRuntimeError\u001b[0m                              Traceback (most recent call last)",
      "Cell \u001b[1;32mIn[5], line 1\u001b[0m\n\u001b[1;32m----> 1\u001b[0m \u001b[38;5;28;01mfrom\u001b[39;00m \u001b[38;5;21;01mhyperion_fuzzy\u001b[39;00m\u001b[38;5;21;01m.\u001b[39;00m\u001b[38;5;21;01mHyperionFuzzy\u001b[39;00m \u001b[38;5;28;01mimport\u001b[39;00m HyperionFuzzy\n",
      "File \u001b[1;32m~\\Documents\\Business and Formation\\Data Science\\Model\\Classification\\Conformal transformation twin-hypersphere multi-cluster with fuzzy membership\\hyperion-fuzzy\\src\\hyperion_fuzzy\\HyperionFuzzy.py:5\u001b[0m\n\u001b[0;32m      3\u001b[0m \u001b[38;5;28;01mfrom\u001b[39;00m \u001b[38;5;21;01mmemory_profiler\u001b[39;00m \u001b[38;5;28;01mimport\u001b[39;00m memory_usage\n\u001b[0;32m      4\u001b[0m \u001b[38;5;28;01mimport\u001b[39;00m \u001b[38;5;21;01mtime\u001b[39;00m\n\u001b[1;32m----> 5\u001b[0m \u001b[38;5;28;01mfrom\u001b[39;00m \u001b[38;5;21;01m.\u001b[39;00m\u001b[38;5;21;01mwrappers\u001b[39;00m \u001b[38;5;28;01mimport\u001b[39;00m Hypersphere, predict \u001b[38;5;28;01mas\u001b[39;00m ccp_predict, fuzzy_contribution \u001b[38;5;28;01mas\u001b[39;00m cpp_fuzzy_contribution\n\u001b[0;32m      7\u001b[0m \u001b[38;5;28;01mclass\u001b[39;00m \u001b[38;5;21;01mHyperionFuzzy\u001b[39;00m:\n\u001b[0;32m      8\u001b[0m     \u001b[38;5;28;01mdef\u001b[39;00m \u001b[38;5;21m__init__\u001b[39m(\u001b[38;5;28mself\u001b[39m, num_clusters\u001b[38;5;241m=\u001b[39m\u001b[38;5;241m2\u001b[39m, gamma\u001b[38;5;241m=\u001b[39m\u001b[38;5;241m1.0\u001b[39m, sigma\u001b[38;5;241m=\u001b[39m\u001b[38;5;241m0.005\u001b[39m, E\u001b[38;5;241m=\u001b[39m\u001b[38;5;241m1e-7\u001b[39m, max_iterations\u001b[38;5;241m=\u001b[39m\u001b[38;5;241m5\u001b[39m):\n",
      "File \u001b[1;32m~\\Documents\\Business and Formation\\Data Science\\Model\\Classification\\Conformal transformation twin-hypersphere multi-cluster with fuzzy membership\\hyperion-fuzzy\\src\\hyperion_fuzzy\\wrappers.py:42\u001b[0m\n\u001b[0;32m     40\u001b[0m     hypersphere_lib \u001b[38;5;241m=\u001b[39m ctypes\u001b[38;5;241m.\u001b[39mCDLL(hypersphere_lib_path)\n\u001b[0;32m     41\u001b[0m \u001b[38;5;28;01mexcept\u001b[39;00m \u001b[38;5;167;01mOSError\u001b[39;00m \u001b[38;5;28;01mas\u001b[39;00m e:\n\u001b[1;32m---> 42\u001b[0m     \u001b[38;5;28;01mraise\u001b[39;00m \u001b[38;5;167;01mRuntimeError\u001b[39;00m(\u001b[38;5;124mf\u001b[39m\u001b[38;5;124m\"\u001b[39m\u001b[38;5;124mFailed to load shared libraries: \u001b[39m\u001b[38;5;132;01m{\u001b[39;00me\u001b[38;5;132;01m}\u001b[39;00m\u001b[38;5;124m\"\u001b[39m)\n\u001b[0;32m     45\u001b[0m \u001b[38;5;66;03m# Define argument and return types\u001b[39;00m\n\u001b[0;32m     46\u001b[0m hypersphere_lib\u001b[38;5;241m.\u001b[39mcreate_hypersphere\u001b[38;5;241m.\u001b[39margtypes \u001b[38;5;241m=\u001b[39m [ctypes\u001b[38;5;241m.\u001b[39mPOINTER(ctypes\u001b[38;5;241m.\u001b[39mc_double), ctypes\u001b[38;5;241m.\u001b[39mc_int,\n\u001b[0;32m     47\u001b[0m                                    ctypes\u001b[38;5;241m.\u001b[39mPOINTER(ctypes\u001b[38;5;241m.\u001b[39mc_double), ctypes\u001b[38;5;241m.\u001b[39mc_int, ctypes\u001b[38;5;241m.\u001b[39mc_int,\n\u001b[0;32m     48\u001b[0m                                    ctypes\u001b[38;5;241m.\u001b[39mc_double]\n",
      "\u001b[1;31mRuntimeError\u001b[0m: Failed to load shared libraries: Could not find module 'C:\\Users\\Admin\\Documents\\Business and Formation\\Data Science\\Model\\Classification\\Conformal transformation twin-hypersphere multi-cluster with fuzzy membership\\hyperion-fuzzy\\src\\hyperion_fuzzy\\build\\fuzzy_contribution.dll' (or one of its dependencies). Try using the full path with constructor syntax."
     ]
    }
   ],
   "source": [
    "from hyperion_fuzzy.HyperionFuzzy import HyperionFuzzy"
   ]
  },
  {
   "cell_type": "code",
   "execution_count": null,
   "id": "473d88ea-b2d4-473e-984a-64a918eed5d6",
   "metadata": {},
   "outputs": [],
   "source": []
  }
 ],
 "metadata": {
  "kernelspec": {
   "display_name": "Python 3 (ipykernel)",
   "language": "python",
   "name": "python3"
  },
  "language_info": {
   "codemirror_mode": {
    "name": "ipython",
    "version": 3
   },
   "file_extension": ".py",
   "mimetype": "text/x-python",
   "name": "python",
   "nbconvert_exporter": "python",
   "pygments_lexer": "ipython3",
   "version": "3.12.7"
  }
 },
 "nbformat": 4,
 "nbformat_minor": 5
}
