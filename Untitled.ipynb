{
 "cells": [
  {
   "cell_type": "code",
   "execution_count": 3,
   "id": "3145fbba-815a-4413-ab21-87eaa3c6389b",
   "metadata": {},
   "outputs": [],
   "source": [
    "# First, we need to set up the path\n",
    "import sys\n",
    "import os\n",
    "\n",
    "# Ensure that the src directory is in the Python path\n",
    "# This assumes your notebook is in the root of your Project directory\n",
    "sys.path.insert(0, os.path.abspath('src'))\n",
    "\n",
    "import pandas as pd\n",
    "import numpy as np\n",
    "from sklearn.model_selection import train_test_split"
   ]
  },
  {
   "cell_type": "code",
   "execution_count": 24,
   "id": "650b7c37-aee8-4b0f-92f7-b39b309342aa",
   "metadata": {},
   "outputs": [
    {
     "name": "stdout",
     "output_type": "stream",
     "text": [
      "test\n"
     ]
    },
    {
     "ename": "AttributeError",
     "evalue": "function 'fuzzy_contribution' not found",
     "output_type": "error",
     "traceback": [
      "\u001b[1;31m---------------------------------------------------------------------------\u001b[0m",
      "\u001b[1;31mAttributeError\u001b[0m                            Traceback (most recent call last)",
      "Cell \u001b[1;32mIn[24], line 1\u001b[0m\n\u001b[1;32m----> 1\u001b[0m \u001b[38;5;28;01mfrom\u001b[39;00m \u001b[38;5;21;01mhyperion_fuzzy\u001b[39;00m\u001b[38;5;21;01m.\u001b[39;00m\u001b[38;5;21;01mHyperionFuzzy\u001b[39;00m \u001b[38;5;28;01mimport\u001b[39;00m HyperionFuzzy\n",
      "File \u001b[1;32m~\\Documents\\Business and Formation\\Data Science\\Model\\Classification\\Conformal transformation twin-hypersphere multi-cluster with fuzzy membership\\hyperion-fuzzy\\src\\hyperion_fuzzy\\HyperionFuzzy.py:5\u001b[0m\n\u001b[0;32m      3\u001b[0m \u001b[38;5;28;01mfrom\u001b[39;00m \u001b[38;5;21;01mmemory_profiler\u001b[39;00m \u001b[38;5;28;01mimport\u001b[39;00m memory_usage\n\u001b[0;32m      4\u001b[0m \u001b[38;5;28;01mimport\u001b[39;00m \u001b[38;5;21;01mtime\u001b[39;00m\n\u001b[1;32m----> 5\u001b[0m \u001b[38;5;28;01mfrom\u001b[39;00m \u001b[38;5;21;01m.\u001b[39;00m\u001b[38;5;21;01mwrappers\u001b[39;00m \u001b[38;5;28;01mimport\u001b[39;00m Hypersphere, predict \u001b[38;5;28;01mas\u001b[39;00m ccp_predict, optimize_hypersphere \u001b[38;5;28;01mas\u001b[39;00m cpp_optimize_hypersphere, fuzzy_contribution \u001b[38;5;28;01mas\u001b[39;00m cpp_fuzzy_contribution\n\u001b[0;32m      7\u001b[0m \u001b[38;5;28;01mclass\u001b[39;00m \u001b[38;5;21;01mHyperionFuzzy\u001b[39;00m:\n\u001b[0;32m      8\u001b[0m     \u001b[38;5;28;01mdef\u001b[39;00m \u001b[38;5;21m__init__\u001b[39m(\u001b[38;5;28mself\u001b[39m, num_clusters\u001b[38;5;241m=\u001b[39m\u001b[38;5;241m2\u001b[39m, gamma\u001b[38;5;241m=\u001b[39m\u001b[38;5;241m1.0\u001b[39m, sigma\u001b[38;5;241m=\u001b[39m\u001b[38;5;241m0.005\u001b[39m, E\u001b[38;5;241m=\u001b[39m\u001b[38;5;241m1e-7\u001b[39m, max_iterations\u001b[38;5;241m=\u001b[39m\u001b[38;5;241m100\u001b[39m):\n",
      "File \u001b[1;32m~\\Documents\\Business and Formation\\Data Science\\Model\\Classification\\Conformal transformation twin-hypersphere multi-cluster with fuzzy membership\\hyperion-fuzzy\\src\\hyperion_fuzzy\\wrappers.py:58\u001b[0m\n\u001b[0;32m     56\u001b[0m \u001b[38;5;28mprint\u001b[39m(\u001b[38;5;124m\"\u001b[39m\u001b[38;5;124mtest\u001b[39m\u001b[38;5;124m\"\u001b[39m)\n\u001b[0;32m     57\u001b[0m \u001b[38;5;66;03m# Define the argument and return types for the function\u001b[39;00m\n\u001b[1;32m---> 58\u001b[0m \u001b[43mfuzzy_lib\u001b[49m\u001b[38;5;241;43m.\u001b[39;49m\u001b[43mfuzzy_contribution\u001b[49m\u001b[38;5;241m.\u001b[39margtypes \u001b[38;5;241m=\u001b[39m [\n\u001b[0;32m     59\u001b[0m     ctypes\u001b[38;5;241m.\u001b[39mPOINTER(ctypes\u001b[38;5;241m.\u001b[39mc_double),  \u001b[38;5;66;03m# x\u001b[39;00m\n\u001b[0;32m     60\u001b[0m     ctypes\u001b[38;5;241m.\u001b[39mPOINTER(Hypersphere),      \u001b[38;5;66;03m# positive_hyperspheres\u001b[39;00m\n\u001b[0;32m     61\u001b[0m     ctypes\u001b[38;5;241m.\u001b[39mPOINTER(Hypersphere),      \u001b[38;5;66;03m# negative_hyperspheres\u001b[39;00m\n\u001b[0;32m     62\u001b[0m     ctypes\u001b[38;5;241m.\u001b[39mc_int,                     \u001b[38;5;66;03m# num_positive\u001b[39;00m\n\u001b[0;32m     63\u001b[0m     ctypes\u001b[38;5;241m.\u001b[39mc_int,                     \u001b[38;5;66;03m# num_negative\u001b[39;00m\n\u001b[0;32m     64\u001b[0m     ctypes\u001b[38;5;241m.\u001b[39mc_int,                     \u001b[38;5;66;03m# dim\u001b[39;00m\n\u001b[0;32m     65\u001b[0m     ctypes\u001b[38;5;241m.\u001b[39mc_double,                  \u001b[38;5;66;03m# gamma\u001b[39;00m\n\u001b[0;32m     66\u001b[0m     ctypes\u001b[38;5;241m.\u001b[39mc_double,                  \u001b[38;5;66;03m# sigma\u001b[39;00m\n\u001b[0;32m     67\u001b[0m     ctypes\u001b[38;5;241m.\u001b[39mc_double,                  \u001b[38;5;66;03m# E\u001b[39;00m\n\u001b[0;32m     68\u001b[0m     ctypes\u001b[38;5;241m.\u001b[39mPOINTER(ctypes\u001b[38;5;241m.\u001b[39mc_int),     \u001b[38;5;66;03m# assigned_class\u001b[39;00m\n\u001b[0;32m     69\u001b[0m     ctypes\u001b[38;5;241m.\u001b[39mPOINTER(ctypes\u001b[38;5;241m.\u001b[39mc_double)   \u001b[38;5;66;03m# contribution\u001b[39;00m\n\u001b[0;32m     70\u001b[0m ]\n\u001b[0;32m     71\u001b[0m fuzzy_lib\u001b[38;5;241m.\u001b[39mfuzzy_contribution\u001b[38;5;241m.\u001b[39mrestype \u001b[38;5;241m=\u001b[39m \u001b[38;5;28;01mNone\u001b[39;00m\n\u001b[0;32m     73\u001b[0m fuzzy_lib\u001b[38;5;241m.\u001b[39mpredict\u001b[38;5;241m.\u001b[39margtypes \u001b[38;5;241m=\u001b[39m [\n\u001b[0;32m     74\u001b[0m     ctypes\u001b[38;5;241m.\u001b[39mPOINTER(ctypes\u001b[38;5;241m.\u001b[39mc_double),  \u001b[38;5;66;03m# transformed_data\u001b[39;00m\n\u001b[0;32m     75\u001b[0m     ctypes\u001b[38;5;241m.\u001b[39mc_int,                     \u001b[38;5;66;03m# num_samples\u001b[39;00m\n\u001b[1;32m   (...)\u001b[0m\n\u001b[0;32m     82\u001b[0m     ctypes\u001b[38;5;241m.\u001b[39mPOINTER(ctypes\u001b[38;5;241m.\u001b[39mc_int)      \u001b[38;5;66;03m# predictions\u001b[39;00m\n\u001b[0;32m     83\u001b[0m ]\n",
      "File \u001b[1;32m~\\miniconda3\\Lib\\ctypes\\__init__.py:392\u001b[0m, in \u001b[0;36mCDLL.__getattr__\u001b[1;34m(self, name)\u001b[0m\n\u001b[0;32m    390\u001b[0m \u001b[38;5;28;01mif\u001b[39;00m name\u001b[38;5;241m.\u001b[39mstartswith(\u001b[38;5;124m'\u001b[39m\u001b[38;5;124m__\u001b[39m\u001b[38;5;124m'\u001b[39m) \u001b[38;5;129;01mand\u001b[39;00m name\u001b[38;5;241m.\u001b[39mendswith(\u001b[38;5;124m'\u001b[39m\u001b[38;5;124m__\u001b[39m\u001b[38;5;124m'\u001b[39m):\n\u001b[0;32m    391\u001b[0m     \u001b[38;5;28;01mraise\u001b[39;00m \u001b[38;5;167;01mAttributeError\u001b[39;00m(name)\n\u001b[1;32m--> 392\u001b[0m func \u001b[38;5;241m=\u001b[39m \u001b[38;5;28;43mself\u001b[39;49m\u001b[38;5;241;43m.\u001b[39;49m\u001b[38;5;21;43m__getitem__\u001b[39;49m\u001b[43m(\u001b[49m\u001b[43mname\u001b[49m\u001b[43m)\u001b[49m\n\u001b[0;32m    393\u001b[0m \u001b[38;5;28msetattr\u001b[39m(\u001b[38;5;28mself\u001b[39m, name, func)\n\u001b[0;32m    394\u001b[0m \u001b[38;5;28;01mreturn\u001b[39;00m func\n",
      "File \u001b[1;32m~\\miniconda3\\Lib\\ctypes\\__init__.py:397\u001b[0m, in \u001b[0;36mCDLL.__getitem__\u001b[1;34m(self, name_or_ordinal)\u001b[0m\n\u001b[0;32m    396\u001b[0m \u001b[38;5;28;01mdef\u001b[39;00m \u001b[38;5;21m__getitem__\u001b[39m(\u001b[38;5;28mself\u001b[39m, name_or_ordinal):\n\u001b[1;32m--> 397\u001b[0m     func \u001b[38;5;241m=\u001b[39m \u001b[38;5;28;43mself\u001b[39;49m\u001b[38;5;241;43m.\u001b[39;49m\u001b[43m_FuncPtr\u001b[49m\u001b[43m(\u001b[49m\u001b[43m(\u001b[49m\u001b[43mname_or_ordinal\u001b[49m\u001b[43m,\u001b[49m\u001b[43m \u001b[49m\u001b[38;5;28;43mself\u001b[39;49m\u001b[43m)\u001b[49m\u001b[43m)\u001b[49m\n\u001b[0;32m    398\u001b[0m     \u001b[38;5;28;01mif\u001b[39;00m \u001b[38;5;129;01mnot\u001b[39;00m \u001b[38;5;28misinstance\u001b[39m(name_or_ordinal, \u001b[38;5;28mint\u001b[39m):\n\u001b[0;32m    399\u001b[0m         func\u001b[38;5;241m.\u001b[39m\u001b[38;5;18m__name__\u001b[39m \u001b[38;5;241m=\u001b[39m name_or_ordinal\n",
      "\u001b[1;31mAttributeError\u001b[0m: function 'fuzzy_contribution' not found"
     ]
    }
   ],
   "source": [
    "from hyperion_fuzzy.HyperionFuzzy import HyperionFuzzy"
   ]
  },
  {
   "cell_type": "code",
   "execution_count": null,
   "id": "473d88ea-b2d4-473e-984a-64a918eed5d6",
   "metadata": {},
   "outputs": [],
   "source": []
  }
 ],
 "metadata": {
  "kernelspec": {
   "display_name": "Python 3 (ipykernel)",
   "language": "python",
   "name": "python3"
  },
  "language_info": {
   "codemirror_mode": {
    "name": "ipython",
    "version": 3
   },
   "file_extension": ".py",
   "mimetype": "text/x-python",
   "name": "python",
   "nbconvert_exporter": "python",
   "pygments_lexer": "ipython3",
   "version": "3.12.7"
  }
 },
 "nbformat": 4,
 "nbformat_minor": 5
}
